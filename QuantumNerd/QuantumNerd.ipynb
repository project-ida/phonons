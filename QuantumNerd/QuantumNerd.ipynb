{
 "cells": [
  {
   "cell_type": "markdown",
   "metadata": {},
   "source": [
    "# [QuantumNerd tutorials](https://www.youtube.com/playlist?list=PLGntAYRT8AVmQMyurFoncyOdHljqeGU_R)"
   ]
  },
  {
   "cell_type": "markdown",
   "metadata": {},
   "source": [
    "Start with QuandumNerd's [intro playlist](https://www.youtube.com/playlist?list=PLGntAYRT8AVki7djmjm4lVV2DImVbno3Z) on Quantum Espresso (QE) before jumping into the projects.\n",
    "\n",
    "I'm going to try and follow QuantumNerd's projects and bring it into Jupyter [using ASE with QE](https://wiki.fysik.dtu.dk/ase/ase/calculators/espresso.html)"
   ]
  },
  {
   "cell_type": "code",
   "execution_count": 115,
   "metadata": {},
   "outputs": [],
   "source": [
    "import matplotlib.pyplot as plt\n",
    "%matplotlib inline\n",
    "from ase import Atoms, Atom\n",
    "from ase.calculators.espresso import Espresso \n",
    "# note there is also this library https://github.com/lmmentel/ase-espresso but I can't get it to work well\n",
    "# Also there is this library https://github.com/jboes/decaf-espresso but i've not tried it yet\n",
    "from ase.units import Bohr\n",
    "from ase.build import bulk\n",
    "from ase.dft.dos import DOS"
   ]
  },
  {
   "cell_type": "markdown",
   "metadata": {},
   "source": [
    "## [Project 1 H2 molecule](https://www.youtube.com/watch?v=OU9i_zeapCU&list=PLGntAYRT8AVmQMyurFoncyOdHljqeGU_R&index=4)"
   ]
  },
  {
   "cell_type": "code",
   "execution_count": 98,
   "metadata": {},
   "outputs": [
    {
     "name": "stdout",
     "output_type": "stream",
     "text": [
      "energy = -31.500497837735008 eV\n"
     ]
    }
   ],
   "source": [
    "pseudopotentials = {'H': 'H_ONCV_PBE-1.0.oncvpsp.upf'}\n",
    "\n",
    "H2 = Atoms([Atom('H', [0, 0, 0]),\n",
    "            Atom('H', [1, 0, 0])],\n",
    "           cell=(20*Bohr, 20*Bohr, 20*Bohr))\n",
    "\n",
    "H2_calc =  Espresso(label=\"H2\", pseudo_dir = \"/Users/matt/QE/SSSP_precision_pseudos/\", prefix=\"H2\", \n",
    "                    outdir=\"./H2\",\n",
    "                    pseudopotentials=pseudopotentials, \n",
    "                    calculation=\"relax\", # allows our initial guess of atom positions to change\n",
    "                    ion_dynamics=\"bfgs\", # relates to the relaxing of the ions\n",
    "                    ibrav=1,             # this is simple cubic lattice\n",
    "                    conv_thr=1e-8,       # tells QE when to stop\n",
    "                    ecutwfc=30.0,        # max energy to use in calculations, bigger this is longer simulation is \n",
    "                    kpts=(1, 1, 1)       # number of points in kx,ky,kz space, (1,1,1) is fine for isoalted molecule\n",
    "                   )\n",
    "\n",
    "\n",
    "H2.calc = H2_calc\n",
    "\n",
    "print('energy = {0} eV'.format(H2.get_potential_energy()))"
   ]
  },
  {
   "cell_type": "markdown",
   "metadata": {},
   "source": [
    "Final atomic positions cannot be read from the output file by ASE apparently. You have to go and look at the end of `H2.pwo`\n",
    "\n",
    "```\n",
    "ATOMIC_POSITIONS (angstrom)\n",
    "H             0.1189051257        0.0000000000        0.0000000000\n",
    "H             0.8810948743        0.0000000000        0.0000000000\n",
    "End final coordinates\n",
    "```"
   ]
  },
  {
   "cell_type": "markdown",
   "metadata": {},
   "source": [
    "## [Project: 2 Water molecule](https://www.youtube.com/watch?v=qth17pYTnw4&list=PLGntAYRT8AVmQMyurFoncyOdHljqeGU_R&index=5)"
   ]
  },
  {
   "cell_type": "code",
   "execution_count": 99,
   "metadata": {},
   "outputs": [
    {
     "name": "stdout",
     "output_type": "stream",
     "text": [
      "energy = -595.7041969453591 eV\n"
     ]
    }
   ],
   "source": [
    "pseudopotentials = {'H': 'H_ONCV_PBE-1.0.oncvpsp.upf',\n",
    "                    'O': 'O.pbe-n-kjpaw_psl.0.1.UPF'\n",
    "                   }\n",
    "# If we don't add some asymmetry in the H's then QE will do detect the symmetry and limit how the molcules can relax\n",
    "H20 = Atoms([Atom('H', [1, 0.01, 0.03]),\n",
    "            Atom('H', [-1, 0.01, 0.02]), \n",
    "            Atom('O', [0, 0, 0])],\n",
    "           cell=(10*Bohr, 10*Bohr, 10*Bohr))\n",
    "\n",
    "H20_calc =  Espresso(label=\"H20\", pseudo_dir = \"/Users/matt/QE/SSSP_precision_pseudos/\", prefix=\"H20\", \n",
    "                    outdir=\"./H20\",\n",
    "                    pseudopotentials=pseudopotentials, \n",
    "                    calculation=\"relax\",   # allows our initial guess of atom positions to change\n",
    "                    etot_conv_thr = 1e-5,  # total energy convergence threashold, lower is more accurate (use with \"relax\")\n",
    "                    forc_conv_thr = 1e-4,  # force convergence threashold, lower is more accurate (use with \"relax\")\n",
    "                    ion_dynamics=\"bfgs\",   # relates to the relaxing of the ions\n",
    "                    ibrav=1,               # this is simple cubic lattice\n",
    "                    conv_thr=1e-8,         # tells QE when to stop\n",
    "                    ecutwfc=25.0,          # max energy to use in calculations, bigger this is longer simulation is \n",
    "                    kpts=(1, 1, 1)         # number of points in kx,ky,kz space, (1,1,1) is fine for isoalted molecule\n",
    "                   )\n",
    "\n",
    "H20.calc = H20_calc\n",
    "\n",
    "print('energy = {0} eV'.format(H20.get_potential_energy()))"
   ]
  },
  {
   "cell_type": "markdown",
   "metadata": {},
   "source": [
    "Needs you to install [xcrysden](http://www.xcrysden.org/) - I could not get it to work on my Mac so I couldn't do the cool bond angle animations that he did."
   ]
  },
  {
   "cell_type": "markdown",
   "metadata": {},
   "source": [
    "## [Project: 3.1 Si crystal constant and density](https://www.youtube.com/watch?v=v1LcTLSIkZI&list=PLGntAYRT8AVmQMyurFoncyOdHljqeGU_R&index=7&t=0s)"
   ]
  },
  {
   "cell_type": "code",
   "execution_count": 97,
   "metadata": {},
   "outputs": [
    {
     "name": "stdout",
     "output_type": "stream",
     "text": [
      "energy = -310.56988716769297 eV\n"
     ]
    }
   ],
   "source": [
    "pseudopotentials = {'Si': 'Si.pbe-n-rrkjus_psl.1.0.0.UPF'}\n",
    "\n",
    "Si = bulk('Si', 'diamond', a=14*Bohr)\n",
    "\n",
    "Si_calc =  Espresso(label=\"Si\", pseudo_dir = \"/Users/matt/QE/SSSP_precision_pseudos/\", prefix=\"Si\", \n",
    "                    outdir=\"./Si\",\n",
    "                    pseudopotentials=pseudopotentials, \n",
    "                    calculation=\"vc-relax\",   # allows our initial guess of the unit cell to change\n",
    "                    etot_conv_thr = 1e-5,     # total energy convergence threashold, lower is more accurate (use with \"relax\")\n",
    "                    forc_conv_thr = 1e-4,     # force convergence threashold, lower is more accurate (use with \"relax\")\n",
    "                    ibrav=2,                  # this is FCC lattice\n",
    "                    conv_thr=1e-7,            # tells QE when to stop\n",
    "                    ecutwfc=30.0,             # max energy to use in calculations, bigger this is longer simulation is \n",
    "                    kpts=(4, 4, 4),           # number of points in kx,ky,kz space, periodic lattice needs more than (1,1,1)\n",
    "                    cell_dofree=\"ibrav\"       # QE is only allowed to to relax keeping ibrav fixed\n",
    "                   )\n",
    "\n",
    "Si.calc = Si_calc\n",
    "\n",
    "print('energy = {0} eV'.format(Si.get_potential_energy()))"
   ]
  },
  {
   "cell_type": "markdown",
   "metadata": {},
   "source": [
    "Looks like you cannot make the `ATOMIC_POSITIONS` in the `pwi` file have units of **alat** as in the tutorial.\n",
    "\n",
    "Also, I cannot find a way to add the extra zeros needed to ensure QE doesn't relax the atomic positions and only the unit cell. Specifically, I can only make this:\n",
    "\n",
    "```\n",
    "ATOMIC_POSITIONS angstrom\n",
    "Si 0.0000000000 0.0000000000 0.0000000000 \n",
    "Si 1.8521202370 1.8521202370 1.8521202370\n",
    "```\n",
    "\n",
    "Following his procedure we use the cell parameters, divide by 0.5 and then multiply by the alat=14 to get the final relaxed lattice constant\n",
    "\n",
    "```\n",
    "CELL_PARAMETERS (alat= 14.00000006)\n",
    "  -0.369907496   0.000000000   0.369907496\n",
    "   0.000000000   0.369907496   0.369907496\n",
    "  -0.369907496   0.369907496   0.000000000\n",
    "```"
   ]
  },
  {
   "cell_type": "code",
   "execution_count": 102,
   "metadata": {},
   "outputs": [
    {
     "data": {
      "text/plain": [
       "10.357409932388899"
      ]
     },
     "execution_count": 102,
     "metadata": {},
     "output_type": "execute_result"
    }
   ],
   "source": [
    "0.369907496/0.5*14.00000006\n"
   ]
  },
  {
   "cell_type": "markdown",
   "metadata": {},
   "source": [
    "So, we started with a guess of the lattice constant of 14 Bohr and it's relaxed to 10.357. This is not the same as the tutorial - maybe it's because I wasn't able to prevent the atomic positions from relaxing too."
   ]
  },
  {
   "cell_type": "markdown",
   "metadata": {},
   "source": [
    "## [Project: 3.2 Silicon DOS and band gap calculation](https://www.youtube.com/watch?v=7VbHmMavTp4&list=PLGntAYRT8AVmQMyurFoncyOdHljqeGU_R&index=7)"
   ]
  },
  {
   "cell_type": "code",
   "execution_count": 122,
   "metadata": {},
   "outputs": [
    {
     "name": "stdout",
     "output_type": "stream",
     "text": [
      "energy = -310.75247106355255 eV\n"
     ]
    }
   ],
   "source": [
    "pseudopotentials = {'Si': 'Si.pbe-n-rrkjus_psl.1.0.0.UPF'}\n",
    "\n",
    "Si_better_scf = bulk('Si', 'diamond', a=10.357409932388899*Bohr)\n",
    "\n",
    "Si_better_calc_scf =  Espresso(label=\"Si_better_scf\", pseudo_dir = \"/Users/matt/QE/SSSP_precision_pseudos/\", prefix=\"Si_better\", \n",
    "                    outdir=\"./Si_better\",\n",
    "                    pseudopotentials=pseudopotentials, \n",
    "                    calculation=\"scf\", # self consistent calculation\n",
    "                    ibrav=2,           # this is FCC lattice\n",
    "                    conv_thr=1e-8,     # tells QE when to stop\n",
    "                    ecutwfc=50.0,      # max energy to use in calculations, bigger this is longer simulation is \n",
    "                    kpts=(8, 8, 8),    # number of points in kx,ky,kz space, periodic lattice needs more than (1,1,1)\n",
    "                                       # can have (8,8,8) here because we are not doing a computationally expensive relax\n",
    "                                       # calculation\n",
    "                   )\n",
    "\n",
    "Si_better_scf.calc = Si_better_calc_scf\n",
    "\n",
    "print('energy = {0} eV'.format(Si_better_scf.get_potential_energy()))"
   ]
  },
  {
   "cell_type": "code",
   "execution_count": 123,
   "metadata": {},
   "outputs": [],
   "source": [
    "Si_better_nscf = bulk('Si', 'diamond', a=10.357409932388899*Bohr)\n",
    "\n",
    "Si_better_calc_nscf =  Espresso(label=\"Si_better_nscf\", pseudo_dir = \"/Users/matt/QE/SSSP_precision_pseudos/\", prefix=\"Si_better\", \n",
    "                    outdir=\"./Si_better\",\n",
    "                    pseudopotentials=pseudopotentials, \n",
    "                    calculation=\"nscf\",       # non self consistent calculation\n",
    "                    ibrav=2,                  # this is FCC lattice\n",
    "                    conv_thr=1e-8,            # tells QE when to stop\n",
    "                    ecutwfc=50.0,             # max energy to use in calculations, bigger this is longer simulation is \n",
    "                    kpts=(12, 12, 12),        # number of points in kx,ky,kz space, periodic lattice needs more than (1,1,1)\n",
    "                                              # can have (12,12,12) here because we are not doing a computationally expensive relax\n",
    "                                              # calculation\n",
    "                    occupations=\"tetrahedra\"  # appropriate for nscf and also appropriate for DOS calculations\n",
    "                   )\n",
    "\n",
    "Si_better_calc_nscf.calculate(Si_better_nscf)"
   ]
  },
  {
   "cell_type": "code",
   "execution_count": 171,
   "metadata": {},
   "outputs": [
    {
     "data": {
      "image/png": "[encoded data removed]",
      "text/plain": [
       "<Figure size 432x288 with 1 Axes>"
      ]
     },
     "metadata": {
      "needs_background": "light"
     },
     "output_type": "display_data"
    }
   ],
   "source": [
    "dos = DOS(Si_better_calc_nscf,width=0.21)\n",
    "plt.plot(dos.get_energies()+Si_better_calc_nscf.get_fermi_level(), dos.get_dos())\n",
    "plt.xlabel('Energy (eV)')\n",
    "plt.ylabel('DOS');\n"
   ]
  },
  {
   "cell_type": "markdown",
   "metadata": {},
   "source": [
    "Note that if you set `width=0.0` in DOS it will give an error. Seems like the QE calculator for ASE is missing something. I've made an [issue on GitLab](https://gitlab.com/ase/ase/issues/576).\n",
    "\n",
    "I've not used the exact method from the tutorial to generate the DOS but instead use the ASE in built library. There is a difference, but not sure how much it matters yet."
   ]
  }
 ],
 "metadata": {
  "jupytext": {
   "formats": "ipynb,src//md"
  },
  "kernelspec": {
   "display_name": "Python 3",
   "language": "python",
   "name": "python3"
  },
  "language_info": {
   "codemirror_mode": {
    "name": "ipython",
    "version": 3
   },
   "file_extension": ".py",
   "mimetype": "text/x-python",
   "name": "python",
   "nbconvert_exporter": "python",
   "pygments_lexer": "ipython3",
   "version": "3.7.1"
  }
 },
 "nbformat": 4,
 "nbformat_minor": 4
}
