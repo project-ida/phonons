{
 "cells": [
  {
   "cell_type": "markdown",
   "metadata": {},
   "source": [
    "<a href=\"https://nbviewer.jupyter.org/github/project-ida/phonons/blob/anthony-sandbox/Strings%20Part%202.ipynb\" target=\"_parent\"><img src=\"https://nbviewer.jupyter.org/static/img/nav_logo.svg\" alt=\"Open In nbviewer\" width=\"100\"/></a>"
   ]
  },
  {
   "cell_type": "code",
   "execution_count": 1,
   "metadata": {},
   "outputs": [],
   "source": [
    "# loading some common python libraries\n",
    "\n",
    "import numpy as np\n",
    "from numpy import linalg\n",
    "import matplotlib.pyplot as plt\n",
    "from matplotlib import animation, rc\n",
    "from IPython.display import Image\n",
    "from IPython.core.display import HTML \n",
    "import sympy as sp\n",
    "#from google.colab.output._publish import javascript\n",
    "mathjaxurl = \"https://cdnjs.cloudflare.com/ajax/libs/mathjax/2.7.3/latest.js?config=default\"\n",
    "sp.init_printing(use_latex='mathjax') \n",
    "import matplotlib.patches as patches\n",
    "import pandas as pd"
   ]
  },
  {
   "cell_type": "code",
   "execution_count": 2,
   "metadata": {},
   "outputs": [],
   "source": [
    "class object:\n",
    "    def __init__(self, mass = 1, x0 = 0, v0 = 0, a0 = 0, wall = False, dt = 0.0001):\n",
    "        #Establishing the parameters of an object\n",
    "        self.mass = mass\n",
    "        self.position = x0\n",
    "        self.velocity = v0\n",
    "        self.acceleration = a0\n",
    "        self.energy = 0.5 * self.mass * (self.velocity)**2\n",
    "        self.dt = dt\n",
    "        \n",
    "        #self.wall is a True-False statement as to whether the object is a wall\n",
    "        self.wall = wall\n",
    "        \n",
    "        #self.force is a list of all of the different forces that are acting on the object\n",
    "        self.forces = []\n",
    "        \n",
    "        #self.xhistory is all of the different positions the object has gone through; the purpose of this is for graphing\n",
    "        self.xhistory = []\n",
    "        \n",
    "        #Keep track of initial conditions for resets\n",
    "        self.xstart = x0\n",
    "        self.vstart = v0\n",
    "        self.astart = a0\n",
    "\n",
    "    def timestep(self):\n",
    "        #Processing a timestep\n",
    "        a_old = self.acceleration\n",
    "        self.Newton()\n",
    "        self.xhistory.append(self.position)\n",
    "        \n",
    "        self.position = self.position + self.velocity*self.dt + 0.5*a_old*self.dt**2\n",
    "        self.velocity = self.velocity + 0.5 * (a_old + self.acceleration) * self.dt\n",
    "        self.energy = 0.5 * self.mass * (self.velocity) ** 2\n",
    "\n",
    "    def force(self, Force):\n",
    "        #We add a force to our list of forces\n",
    "        self.forces.append(Force)\n",
    "\n",
    "    def Newton(self):\n",
    "        #Based on our list of forces, we use Newton's Second Law to find the net force and net acceleration\n",
    "        Force = 0\n",
    "        for F in self.forces:\n",
    "            Force += F\n",
    "        if self.wall == False:\n",
    "            self.acceleration = Force / self.mass\n",
    "        else:\n",
    "            self.acceleration = 0\n",
    "        self.forces = []\n",
    "    \n",
    "    def displace(self, x, v):\n",
    "        #This is a function that displaces an object\n",
    "        self.position += x\n",
    "        self.velocity += v\n",
    "        \n",
    "    def reset(self):\n",
    "        #Reset everything\n",
    "        self.position = self.xstart\n",
    "        self.velocity = self.vstart\n",
    "        self.acceleration = self.astart\n",
    "        self.energy = 0.5 * self.mass * (self.velocity)**2\n",
    "        self.xhistory = []"
   ]
  },
  {
   "cell_type": "code",
   "execution_count": 3,
   "metadata": {},
   "outputs": [],
   "source": [
    "class wall(object):\n",
    "    def Newton(self):\n",
    "        self.acceleration = 0\n",
    "        \n",
    "    def setup(self, A, omega, phi):\n",
    "        self.drive = lambda time: self.xstart + A * np.cos(omega * time + phi)\n",
    "    \n",
    "    def move(time):\n",
    "        self.position = self.drive(time)"
   ]
  },
  {
   "cell_type": "code",
   "execution_count": 4,
   "metadata": {},
   "outputs": [],
   "source": [
    "class spring:\n",
    "    def __init__(self, k, object1, object2, rest_length = 0, periodic = False, boundary = 0):\n",
    "        #Initialize the parameters of the spring\n",
    "        self.k = k\n",
    "        self.obj1 = object1\n",
    "        self.obj2 = object2\n",
    "        self.rest = rest_length\n",
    "        self.energy = 0\n",
    "        \n",
    "        #If the spring is the spring in the periodic boundary that loops around, self.periodic is true, and \n",
    "        #self.boundary is how much that is looped\n",
    "        self.periodic = periodic\n",
    "        self.boundary = boundary\n",
    "\n",
    "    def spring_force(self):\n",
    "        #Calculate the magnitude of the spring force based on the position of the attached masses and the \n",
    "        #parameters of the spring. Then add that force to the list of forces for each object\n",
    "        x1 = self.obj1.position\n",
    "        x2 = self.obj2.position\n",
    "        if self.periodic:\n",
    "            if x2 > x1:\n",
    "                x2 += -self.boundary\n",
    "            else:\n",
    "                x2 += self.boundary\n",
    "        if x2 > x1:\n",
    "            deltax = (x2 - x1 - self.rest)\n",
    "        else:\n",
    "            deltax = (x2 - x1 + self.rest)\n",
    "        f = self.k * deltax\n",
    "        self.obj1.force(f)\n",
    "        self.obj2.force(-f)\n",
    "        self.energy = 0.5 * self.k * (deltax) ** 2"
   ]
  },
  {
   "cell_type": "code",
   "execution_count": 5,
   "metadata": {},
   "outputs": [],
   "source": [
    "def damping(obj, gamma):\n",
    "    #Standard damping force, but it isn't used much\n",
    "    v = obj.velocity\n",
    "    obj.force(-gamma*v)"
   ]
  },
  {
   "cell_type": "code",
   "execution_count": 6,
   "metadata": {},
   "outputs": [],
   "source": [
    "def center(objects):\n",
    "    #This transfers the system into the center of mass reference frame\n",
    "    p_tot = 0\n",
    "    m_tot = 0\n",
    "    for obj in objects:\n",
    "        m_tot += obj.mass\n",
    "        p_tot += obj.mass*obj.velocity\n",
    "    v_cm = p_tot/m_tot\n",
    "    for obj in objects:\n",
    "        obj.displace(0, -v_cm)"
   ]
  },
  {
   "cell_type": "code",
   "execution_count": 7,
   "metadata": {},
   "outputs": [],
   "source": [
    "figNum = 1\n",
    "def figLabel(figNum):\n",
    "    label = \"Fig. \" + str(figNum) + \": \"\n",
    "    return label"
   ]
  },
  {
   "cell_type": "markdown",
   "metadata": {},
   "source": [
    "# Driving Force"
   ]
  },
  {
   "cell_type": "markdown",
   "metadata": {},
   "source": [
    "Now we are going to implement a driving force to see how a driven system behaves. We do this by creating the driver class which is attached to an object; when we call the \"drive\" function in the class, it will add the driving force to the object attached. The force is defined to be\n",
    "$$F = A\\cos(\\omega t + \\phi)$$\n",
    "where $A$ is the driving amplitude, $\\omega$ is the angular frequency, $t$ is the time and $\\phi$ is the phase of the oscillation. "
   ]
  },
  {
   "cell_type": "code",
   "execution_count": 8,
   "metadata": {},
   "outputs": [],
   "source": [
    "class driver:\n",
    "    def __init__(self, amplitude, omega, phase, obj):\n",
    "        self.amplitude = amplitude\n",
    "        self.phase = phase\n",
    "        self.omega = omega\n",
    "        self.obj = obj\n",
    "    \n",
    "    def drive(self, time):\n",
    "        driving_force = self.amplitude * np.cos(self.omega * time + self.phase)\n",
    "        self.obj.force(driving_force)"
   ]
  },
  {
   "cell_type": "markdown",
   "metadata": {},
   "source": [
    "Initialization of the system is the same as always, except now we define a list that contains all of the drivers in the system, so in the simulation we can just go through the list and call the \"drive\" function. In this simulation we are only driving the first mass (the one connected to the leftmost wall)."
   ]
  },
  {
   "cell_type": "code",
   "execution_count": 9,
   "metadata": {},
   "outputs": [],
   "source": [
    "end_time = 1000\n",
    "iters = 15000000\n",
    "N = 2\n",
    "dt = end_time/iters\n",
    "l = 1\n",
    "mass = 5\n",
    "k = 5\n",
    "gamma = 0\n",
    "\n",
    "A = 0.1\n",
    "omega = 3**0.5\n",
    "phi = 0\n",
    "\n",
    "objects = []\n",
    "springs = []\n",
    "drivers = []\n",
    "wall_boundaries = True\n",
    "periodic = False\n",
    "if wall_boundaries:\n",
    "    objects.append(wall(x0 = 0))\n",
    "    for n in range(N):\n",
    "        objects.append(object(mass, x0 = l*(n + 1), dt = dt))\n",
    "    objects.append(wall(x0 = l*(N + 1)))\n",
    "    for m in range(N+1):\n",
    "        springs.append(spring(k, objects[m], objects[m+1], rest_length = l))\n",
    "        \n",
    "elif periodic:\n",
    "    for n in range(N):\n",
    "        objects.append(object(mass, x0 = l*n, dt = dt))\n",
    "    for m in range(N-1):\n",
    "        springs.append(spring(k,objects[m], objects[m+1],rest_length = l))\n",
    "    springs.append(spring(k, objects[N-1], objects[0], rest_length = l, periodic = True, boundary = l*N))\n",
    "    drivers.append(driver(A, omega, phi, objects[1]))\n",
    "        \n",
    "else:\n",
    "    for n in range(N):\n",
    "        objects.append(object(mass, x0 = l*n, dt = dt))\n",
    "    for m in range(N-1):\n",
    "        springs.append(spring(k,objects[m],objects[m+1],rest_length = l))\n",
    "    drivers.append(driver(A, omega, phi, objects[1]))    "
   ]
  },
  {
   "cell_type": "markdown",
   "metadata": {},
   "source": [
    "First we test to see if the number of iterations is appropriate for the total time length by slightly displacing one of the masses and examining the resulting motion. If the oscillation amplitude increases drastically, then it is an indication that our number of iterations is too small and we need to increase it."
   ]
  },
  {
   "cell_type": "code",
   "execution_count": null,
   "metadata": {},
   "outputs": [],
   "source": [
    "objects[1].displace(0.2, 0)\n",
    "\n",
    "min_pos = []\n",
    "max_vel = []\n",
    "rel_pos = []\n",
    "rel_vel = []\n",
    "for i in range(len(objects) - 1):\n",
    "    min_pos.append(99999)\n",
    "    max_vel.append(-99999)\n",
    "    rel_pos.append([])\n",
    "    rel_vel.append([])\n",
    "\n",
    "time = []\n",
    "for i in range(iters):\n",
    "    time.append(i*dt)\n",
    "    for d in drivers:\n",
    "        d.drive(i*dt)\n",
    "    for s in springs:\n",
    "        s.spring_force()\n",
    "    for obj in objects:\n",
    "        damping(obj, gamma)\n",
    "        obj.timestep()\n",
    "    for j in range(len(objects) - 1):\n",
    "        delta_x = objects[j + 1].position - objects[j].position\n",
    "        delta_v = objects[j].velocity - objects[j + 1].velocity\n",
    "        if delta_x < min_pos[j]:\n",
    "            min_pos[j] = delta_x\n",
    "        if delta_v > max_vel[j]:\n",
    "            max_vel[j] = delta_v\n",
    "        rel_pos[j].append(delta_x)\n",
    "        rel_vel[j].append(delta_v)\n",
    "        \n",
    "plt.figure(figsize = (15,10))\n",
    "plt.title(figLabel(figNum) + \"Plot of Object Positions by Time\")\n",
    "figNum += 1\n",
    "\n",
    "for obj in objects:\n",
    "    plt.plot(time, obj.xhistory)\n",
    "plt.show()"
   ]
  },
  {
   "cell_type": "markdown",
   "metadata": {},
   "source": [
    "Now that we have confirmed the fidelity of our simulation, let us add in the driving force, and take a look at the interaction."
   ]
  },
  {
   "cell_type": "code",
   "execution_count": null,
   "metadata": {},
   "outputs": [],
   "source": [
    "for obj in objects:\n",
    "    obj.reset()\n",
    "drivers.append(driver(A, omega, phi, objects[1]))\n",
    "\n",
    "min_pos = []\n",
    "max_vel = []\n",
    "rel_pos = []\n",
    "rel_vel = []\n",
    "for i in range(len(objects) - 1):\n",
    "    min_pos.append(99999)\n",
    "    max_vel.append(-99999)\n",
    "    rel_pos.append([])\n",
    "    rel_vel.append([])\n",
    "\n",
    "time = []\n",
    "for i in range(iters):\n",
    "    time.append(i*dt)\n",
    "    for d in drivers:\n",
    "        d.drive(i*dt)\n",
    "    for s in springs:\n",
    "        s.spring_force()\n",
    "    for obj in objects:\n",
    "        damping(obj, gamma)\n",
    "        obj.timestep()\n",
    "    for j in range(len(objects) - 1):\n",
    "        delta_x = objects[j + 1].position - objects[j].position\n",
    "        delta_v = objects[j].velocity - objects[j + 1].velocity\n",
    "        if delta_x < min_pos[j]:\n",
    "            min_pos[j] = delta_x\n",
    "        if delta_v > max_vel[j]:\n",
    "            max_vel[j] = delta_v\n",
    "        rel_pos[j].append(delta_x)\n",
    "        rel_vel[j].append(delta_v)\n",
    "        \n",
    "plt.figure(figsize = (15,10))\n",
    "plt.title(figLabel(figNum) + \"Plot of Object Positions by Time\")\n",
    "figNum += 1\n",
    "\n",
    "for obj in objects:\n",
    "    plt.plot(time, obj.xhistory)\n",
    "plt.show()"
   ]
  },
  {
   "cell_type": "markdown",
   "metadata": {},
   "source": [
    "Let's take a look at the frequency domain of the resulting motion. As we see, we get peaks at the normal modes, but also a peak at the driven frequency. "
   ]
  },
  {
   "cell_type": "code",
   "execution_count": null,
   "metadata": {},
   "outputs": [],
   "source": [
    "fig, axs = plt.subplots(N, 1, sharey = True, figsize = (20, 3*N), constrained_layout=True)\n",
    "fig.suptitle(figLabel(figNum) + \"Frequency Spectrum of Singular Displaced Mass\", fontsize = 16)\n",
    "figNum += 1\n",
    "\n",
    "max_freq = 2 / (2 * np.pi)\n",
    "end_coord = int(max_freq*end_time)\n",
    "graph = 0\n",
    "for obj in objects[1:N+1]:\n",
    "    y = obj.xhistory\n",
    "    yf = np.fft.fft(y)\n",
    "    yf = 2/iters * np.abs(yf[:iters//2])\n",
    "    yf = yf[1:end_coord+1]\n",
    "    xf = 2*np.pi*np.linspace(0.0, max_freq, end_coord)\n",
    "    axs[graph].plot(xf, yf)\n",
    "    graph += 1\n",
    "plt.show()"
   ]
  },
  {
   "cell_type": "markdown",
   "metadata": {},
   "source": [
    "For comparison purposes, let's print out the theoretical normal modes. As before, they follow the formula:\n",
    "$$\\omega = \\sqrt{\\frac{2k}{m}\\left(1 - \\cos\\left(\\frac{2\\pi l}{\\lambda}\\right)\\right)}$$\n",
    "Where $\\lambda$ is constrained to be $\\lambda = \\frac{2(N+1)l}{n}$ where $N$ is the total number of oscillating masses, and $n$ is an integer. Putting it together,\n",
    "$$\\omega_n = \\sqrt{\\frac{2k}{m}\\left(1 - \\cos\\left(\\frac{n\\pi}{N + 1}\\right)\\right)}$$"
   ]
  },
  {
   "cell_type": "code",
   "execution_count": null,
   "metadata": {},
   "outputs": [],
   "source": [
    "omegas = []\n",
    "for m in range(1, N + 1):\n",
    "    omega = np.sqrt(2*k/mass*(1 - np.cos(np.pi*m/(N+1))))\n",
    "    omegas.append(omega)\n",
    "\n",
    "read_out = \"The theoretical normal modes for this system are: \"\n",
    "for freq in omegas:\n",
    "    read_out += str(freq) + \", \"\n",
    "print(read_out)"
   ]
  },
  {
   "cell_type": "markdown",
   "metadata": {},
   "source": [
    "Now let's see the relative position and velocity distributions."
   ]
  },
  {
   "cell_type": "code",
   "execution_count": null,
   "metadata": {},
   "outputs": [],
   "source": [
    "graph = np.argmin(min_pos)\n",
    "fig, axs = plt.subplots(2, 1, sharey = False, figsize = (20, 10), constrained_layout=True)\n",
    "axs[0].set_title(figLabel(figNum) + \"Most Extreme Relative Position (Between Objects \" + str(graph) + \" and \" + str(graph + 1) + \")\", fontsize = 16)\n",
    "figNum += 1\n",
    "\n",
    "axs[0].plot(time, rel_pos[graph])\n",
    "axs[1].set_title(figLabel(figNum) + \"Positions of Objects \" + str(graph) + \" and \" + str(graph + 1), fontsize = 16)\n",
    "figNum += 1\n",
    "axs[1].plot(time, objects[graph + 1].xhistory)\n",
    "axs[1].plot(time, objects[graph].xhistory)\n",
    "plt.show()"
   ]
  },
  {
   "cell_type": "code",
   "execution_count": null,
   "metadata": {},
   "outputs": [],
   "source": [
    "graph = np.argmax(max_vel)\n",
    "fig, axs = plt.subplots(2, 1, sharey = False, figsize = (20, 10), constrained_layout = True)\n",
    "axs[0].set_title(figLabel(figNum) + \"Most Extreme Relative Velocity (Between Objects \" + str(graph) + \" and \" + str(graph + 1) + \")\", fontsize = 16)\n",
    "figNum += 1\n",
    "\n",
    "axs[0].plot(time, rel_vel[graph])\n",
    "axs[1].set_title(figLabel(figNum) + \"Positions of Objects \" + str(graph) + \" and \" + str(graph + 1), fontsize = 16)\n",
    "figNum += 1\n",
    "\n",
    "axs[1].plot(time, objects[graph + 1].xhistory)\n",
    "axs[1].plot(time, objects[graph].xhistory)\n",
    "plt.show()"
   ]
  },
  {
   "cell_type": "markdown",
   "metadata": {},
   "source": [
    "In the paper by Staker, the string was driven by the oscillation of the Pd atom, which in this case is the wall. For this simulation, we are going to see what happens when we drive the system by oscillating the wall."
   ]
  },
  {
   "cell_type": "code",
   "execution_count": null,
   "metadata": {},
   "outputs": [],
   "source": [
    "A = 0.01\n",
    "omega = 3**0.5\n",
    "\n",
    "phi = 0\n",
    "\n",
    "objects = []\n",
    "springs = []\n",
    "objects.append(wall(x0 = 0))\n",
    "for n in range(N):\n",
    "    objects.append(object(mass, x0 = l*(n + 1), dt = dt))\n",
    "objects.append(wall(x0 = l*(N + 1)))\n",
    "for m in range(N+1):\n",
    "    springs.append(spring(k, objects[m], objects[m+1], rest_length = l))"
   ]
  },
  {
   "cell_type": "code",
   "execution_count": null,
   "metadata": {},
   "outputs": [],
   "source": [
    "objects[0].setup(A, omega, phi)\n",
    "\n",
    "min_pos = []\n",
    "max_vel = []\n",
    "rel_pos = []\n",
    "rel_vel = []\n",
    "for i in range(len(objects) - 1):\n",
    "    min_pos.append(99999)\n",
    "    max_vel.append(-99999)\n",
    "    rel_pos.append([])\n",
    "    rel_vel.append([])\n",
    "\n",
    "time = []\n",
    "for i in range(iters):\n",
    "    time.append(i*dt)\n",
    "    objects[0].move(i*dt)\n",
    "    for s in springs:\n",
    "        s.spring_force()\n",
    "    for obj in objects:\n",
    "        damping(obj, gamma)\n",
    "        obj.timestep()\n",
    "    for j in range(len(objects) - 1):\n",
    "        delta_x = objects[j + 1].position - objects[j].position\n",
    "        delta_v = objects[j].velocity - objects[j + 1].velocity\n",
    "        if delta_x < min_pos[j]:\n",
    "            min_pos[j] = delta_x\n",
    "        if delta_v > max_vel[j]:\n",
    "            max_vel[j] = delta_v\n",
    "        rel_pos[j].append(delta_x)\n",
    "        rel_vel[j].append(delta_v)\n",
    "        \n",
    "plt.figure(figsize = (15,10))\n",
    "plt.title(figLabel(figNum) + \"Plot of Object Positions by Time\")\n",
    "figNum += 1\n",
    "\n",
    "for obj in objects:\n",
    "    plt.plot(time, obj.xhistory)\n",
    "plt.show()"
   ]
  },
  {
   "cell_type": "code",
   "execution_count": null,
   "metadata": {},
   "outputs": [],
   "source": [
    "graph = np.argmin(min_pos)\n",
    "fig, axs = plt.subplots(2, 1, sharey = False, figsize = (20, 10), constrained_layout=True)\n",
    "axs[0].set_title(figLabel(figNum) + \"Most Extreme Relative Position (Between Objects \" + str(graph) + \" and \" + str(graph + 1) + \")\", fontsize = 16)\n",
    "figNum += 1\n",
    "\n",
    "axs[0].plot(time, rel_pos[graph])\n",
    "axs[1].set_title(figLabel(figNum) + \"Positions of Objects \" + str(graph) + \" and \" + str(graph + 1), fontsize = 16)\n",
    "figNum += 1\n",
    "axs[1].plot(time, objects[graph + 1].xhistory)\n",
    "axs[1].plot(time, objects[graph].xhistory)\n",
    "plt.show()"
   ]
  },
  {
   "cell_type": "code",
   "execution_count": null,
   "metadata": {},
   "outputs": [],
   "source": [
    "graph = np.argmax(max_vel)\n",
    "fig, axs = plt.subplots(2, 1, sharey = False, figsize = (20, 10), constrained_layout = True)\n",
    "axs[0].set_title(figLabel(figNum) + \"Most Extreme Relative Velocity (Between Objects \" + str(graph) + \" and \" + str(graph + 1) + \")\", fontsize = 16)\n",
    "figNum += 1\n",
    "\n",
    "axs[0].plot(time, rel_vel[graph])\n",
    "axs[1].set_title(figLabel(figNum) + \"Positions of Objects \" + str(graph) + \" and \" + str(graph + 1), fontsize = 16)\n",
    "figNum += 1\n",
    "\n",
    "axs[1].plot(time, objects[graph + 1].xhistory)\n",
    "axs[1].plot(time, objects[graph].xhistory)\n",
    "plt.show()"
   ]
  },
  {
   "cell_type": "code",
   "execution_count": null,
   "metadata": {},
   "outputs": [],
   "source": []
  }
 ],
 "metadata": {
  "kernelspec": {
   "display_name": "Python 3",
   "language": "python",
   "name": "python3"
  },
  "language_info": {
   "codemirror_mode": {
    "name": "ipython",
    "version": 3
   },
   "file_extension": ".py",
   "mimetype": "text/x-python",
   "name": "python",
   "nbconvert_exporter": "python",
   "pygments_lexer": "ipython3",
   "version": "3.7.4"
  }
 },
 "nbformat": 4,
 "nbformat_minor": 2
}
