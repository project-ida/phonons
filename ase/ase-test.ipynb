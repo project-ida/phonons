{
 "cells": [
  {
   "cell_type": "markdown",
   "metadata": {},
   "source": [
    "# Atomic Simulation Environment + QE"
   ]
  },
  {
   "cell_type": "markdown",
   "metadata": {},
   "source": [
    "This notebook is my attempt at trying to understand some of the crystalography and DFT terminology used in phonopy.\n",
    "\n",
    "I'm following the [dft-book](http://kitchingroup.cheme.cmu.edu/dft-book/dft.html) (githib repo [here](https://github.com/jkitchin/dft-book)) and have copied verbatum some of the contents so it's easier to follow here in the notebook.\n",
    "\n",
    "The dft-book is a fan of using a python package called [ase](https://wiki.fysik.dtu.dk/ase/) (Atomic Simulation Environment). I managed to get it working using a simple `pip install ase`\n",
    "\n",
    "Later in the notebook I run Quantum Espresso (QE) for the first time on my mac."
   ]
  },
  {
   "cell_type": "code",
   "execution_count": null,
   "metadata": {},
   "outputs": [],
   "source": [
    "from IPython.display import Image\n",
    "import numpy as np\n",
    "%matplotlib inline\n",
    "import matplotlib.pyplot as plt"
   ]
  },
  {
   "cell_type": "markdown",
   "metadata": {},
   "source": [
    "## [3 Molecules](http://kitchingroup.cheme.cmu.edu/dft-book/dft.html#orgheadline10)\n",
    "In this chapter we consider how to construct models of molecules, how to manipulate them, and how to calculate many properties of molecules.\n",
    "\n",
    "### [3.1 Defining and visualizing molecules](http://kitchingroup.cheme.cmu.edu/dft-book/dft.html#orgheadline11)\n",
    "We start by learning how to define a molecule and visualize it. We will begin with defining molecules from scratch, then reading molecules from data files, and finally using some built-in databases in ase.\n",
    "\n",
    "#### 3.1.1 From scratch\n",
    "When there is no data file for the molecule you want, or no database to get it from, you have to define your atoms geometry by hand. Here is how that is done for a CO molecule. We must define the type and position of each atom, and the unit cell the atoms are in."
   ]
  },
  {
   "cell_type": "code",
   "execution_count": null,
   "metadata": {},
   "outputs": [],
   "source": [
    "from ase import Atoms, Atom\n",
    "from ase.io import write\n",
    "\n",
    "# define an Atoms object\n",
    "atoms = Atoms([Atom('C', [0., 0., 0.]),\n",
    "               Atom('O', [1.1, 0., 0.])],\n",
    "              cell=(10, 10, 10))\n",
    "\n",
    "print('V = {0:1.0f} Angstrom^3'.format(atoms.get_volume()))\n",
    "\n",
    "write('simple-cubic-cell.png', atoms, show_unit_cell=2)\n",
    "Image(filename='simple-cubic-cell.png') "
   ]
  },
  {
   "cell_type": "markdown",
   "metadata": {},
   "source": [
    "There are two inconvenient features of the simple cubic cell:\n",
    "\n",
    "1. Since the CO molecule is at the corner, its electron density is spread over the 8 corners of the box, which is not convenient for visualization later.\n",
    "2. Due to the geometry of the cube, you need fairly large cubes to make sure the electron density of the molecule does not overlap with that of its images. Electron-electron interactions are repulsive, and the overlap makes the energy increase significantly. Here, the CO molecule has 6 images due to periodic boundary conditions that are 10 Å away. The volume of the unit cell is 1000 Å3.\n",
    "\n",
    "The first problem is easily solved by centering the atoms in the unit cell. The second problem can be solved by using a face-centered cubic lattice, which is the lattice with the closest packing. We show the results of the centering in Figure fig:co-fcc, where we have guessed values for b until the CO molecules are on average 10 Å apart. Note the final volume is only about 715 Å3, which is smaller than the cube. This will result in less computational time to compute properties."
   ]
  },
  {
   "cell_type": "code",
   "execution_count": null,
   "metadata": {},
   "outputs": [],
   "source": [
    "b = 7.1\n",
    "atoms = Atoms([Atom('C', [0., 0., 0.]),\n",
    "               Atom('O', [1.1, 0., 0.])],\n",
    "              cell=[[b, b, 0.],\n",
    "                    [b, 0., b],\n",
    "                    [0., b, b]])\n",
    "\n",
    "print('V = {0:1.0f} Ang^3'.format(atoms.get_volume()))\n",
    "\n",
    "atoms.center()  # translate atoms to center of unit cell\n",
    "write('fcc-cell.png', atoms, show_unit_cell=2)\n",
    "Image(filename='fcc-cell.png') "
   ]
  },
  {
   "cell_type": "markdown",
   "metadata": {},
   "source": [
    "At this point you might ask, \"How do you know the distance to the neighboring image?\" The ag viewer lets you compute this graphically, but we can use code to determine this too. All we have to do is figure out the length of each lattice vector, because these are what separate the atoms in the images. We use the numpy module to compute the distance of a vector as the square root of the sum of squared elements."
   ]
  },
  {
   "cell_type": "code",
   "execution_count": null,
   "metadata": {},
   "outputs": [],
   "source": [
    "from ase import Atoms, Atom\n",
    "\n",
    "b = 7.1\n",
    "atoms = Atoms([Atom('C', [0., 0., 0.]),\n",
    "               Atom('O', [1.1, 0., 0.])],\n",
    "              cell=[[b, b, 0.],\n",
    "                    [b, 0., b],\n",
    "                    [0., b, b]])\n",
    "\n",
    "# get unit cell vectors and their lengths\n",
    "(a1, a2, a3) = atoms.get_cell()\n",
    "print('|a1| = {0:1.2f} Ang'.format(np.sum(a1**2)**0.5))\n",
    "print('|a2| = {0:1.2f} Ang'.format(np.linalg.norm(a2)))\n",
    "print('|a3| = {0:1.2f} Ang'.format(np.sum(a3**2)**0.5))"
   ]
  },
  {
   "cell_type": "markdown",
   "metadata": {},
   "source": [
    "#### 3.1.2 Reading other data formats into a calculation"
   ]
  },
  {
   "cell_type": "markdown",
   "metadata": {},
   "source": [
    "ase.io.read supports many different file formats\n",
    "\n",
    "You can read XYZ file format to create ase.Atoms objects. Have a look at `isobutane.xyz`\n",
    "\n",
    "The first line is the number of atoms in the file. The second line is often a comment. What follows is one line per atom with the symbol and Cartesian coordinates in Å. Note that the XYZ format does not have unit cell information in it, so you will have to figure out a way to provide it. In this example, we center the atoms in a box with vacuum on all sides."
   ]
  },
  {
   "cell_type": "code",
   "execution_count": null,
   "metadata": {},
   "outputs": [],
   "source": [
    "from ase.io import read\n",
    "atoms = read('isobutane.xyz')\n",
    "atoms.center(vacuum=5)\n",
    "write('isobutane-xyz.png', atoms, show_unit_cell=2)\n",
    "Image(filename='isobutane-xyz.png') "
   ]
  },
  {
   "cell_type": "markdown",
   "metadata": {},
   "source": [
    "3.1.3 Predefined molecules\n",
    "ase defines a number of molecular geometries in the ase.data.molecules database. For example, the database includes the molecules in the G2/97 database curtiss:1063. This database contains a broad set of atoms and molecules for which good experimental data exists, making them useful for benchmarking studies. See this site for the original files.\n",
    "\n",
    "The coordinates for the atoms in the database are MP2(full)/6-31G(d) optimized geometries. Here is a list of all the species available in ase.data.g2. You may be interested in reading about some of the other databases in ase.data too."
   ]
  },
  {
   "cell_type": "code",
   "execution_count": null,
   "metadata": {},
   "outputs": [],
   "source": [
    "from ase.data import g2\n",
    "g2.data.keys()"
   ]
  },
  {
   "cell_type": "markdown",
   "metadata": {},
   "source": [
    "Some other databases include the ase.data.s22 for weakly interacting dimers and complexes, and ase.data.extra_molecules which has a few extras like biphenyl and C60.\n",
    "\n",
    "Here is an example of getting the geometry of an acetonitrile molecule and writing an image to a file. Note that the default unit cell is a 1 Å × Å × Å cubic cell. That is too small to use if your calculator uses periodic boundary conditions. We center the atoms in the unit cell and add vacuum on each side. We will add 6 Å of vacuum on each side. In the write command we use the option show_unit_cell =2 to draw the unit cell boundaries."
   ]
  },
  {
   "cell_type": "code",
   "execution_count": null,
   "metadata": {},
   "outputs": [],
   "source": [
    "from ase.build import molecule # build instead of structure because of warninig I got\n",
    "atoms = molecule('CH3CN')\n",
    "\n",
    "atoms.center(vacuum=6)\n",
    "print('unit cell')\n",
    "print('---------')\n",
    "print(atoms.get_cell())\n",
    "\n",
    "write('ch3cn.png', atoms, show_unit_cell=2)\n",
    "Image(filename='ch3cn.png') "
   ]
  },
  {
   "cell_type": "markdown",
   "metadata": {},
   "source": [
    "It is possible to rotate the atoms with ase.io.write if you wanted to see pictures from another angle. In the next example we rotate 45 degrees about the $x$-axis, then 45 degrees about the $y$-axis. Note that this only affects the image, not the actual coordinates."
   ]
  },
  {
   "cell_type": "code",
   "execution_count": null,
   "metadata": {},
   "outputs": [],
   "source": [
    "write('ch3cn-rotated.png', atoms,\n",
    "      show_unit_cell=2, rotation='45x,45y,0z')\n",
    "Image(filename='ch3cn-rotated.png') "
   ]
  },
  {
   "cell_type": "markdown",
   "metadata": {},
   "source": [
    "**...I've not included all the examples from this section**"
   ]
  },
  {
   "cell_type": "markdown",
   "metadata": {},
   "source": [
    "### [3.3 Simple properties that require single computations](http://kitchingroup.cheme.cmu.edu/dft-book/dft.html#orgheadline13)"
   ]
  },
  {
   "cell_type": "markdown",
   "metadata": {},
   "source": [
    "#### 3.3.1 Energy and forces\n",
    "Two of the most important quantities we are interested in are the total energy and the forces on the atoms. To get these quantities, we have to define a calculator and attach it to an ase.Atoms object so that ase knows how to get the data. After defining the calculator a DFT calculation must be run.\n",
    "\n",
    "Here is an example of getting the energy and forces from a CO molecule. The forces in this case are very high, indicating that this geometry is not close to the ground state geometry. Note that the forces are only along the $x$-axis, which is along the molecular axis. We will see how to minimize this force in Manual determination and Automatic geometry optimization with VASP.\n",
    "\n",
    "This is your first DFT calculation in the book! See ISMEAR, SIGMA, NBANDS, and ENCUT to learn more about these VASP keywords."
   ]
  },
  {
   "cell_type": "markdown",
   "metadata": {},
   "source": [
    "**MATT: I now depart from the book to try out Quantum Expresso (QE)**\n",
    "\n",
    "ASE can apparently work with QE (see [ASE docs](https://wiki.fysik.dtu.dk/ase/ase/calculators/espresso.html))\n",
    "\n",
    "I need to install QE on Mac. [YouTube tutorial here](https://www.youtube.com/watch?v=uWhZOwfmV2s).\n",
    "\n",
    "- Downloaded source code from assets at the bottom of [this page](https://github.com/QEF/q-e/releases/tag/qe-6.5)\n",
    "- Extracted files and placed them in my home directory under `QE` folder\n",
    "- Made sure I had fortran compiler `gfortran` and `open-mpi` installed (via brew for mac)\n",
    "- Navigated into `QE` and as per [instructions](https://github.com/QEF/q-e/tree/qe-6.5#usage) on QE repo I ran `./configure` and then `make all` - this took about 15 mins to complete"
   ]
  },
  {
   "cell_type": "code",
   "execution_count": null,
   "metadata": {},
   "outputs": [],
   "source": [
    "\n",
    "from ase import Atoms\n",
    "from ase.calculators.espresso import Espresso\n",
    "\n",
    "atoms = Atoms('H2', positions=[[0, 0, -1], [0, 0, 1]])\n",
    "\n",
    "\n",
    "pseudo_dir = \"~/QE/SSSP_precision_pseudos/\"\n",
    "\n",
    "H2 = "
   ]
  },
  {
   "cell_type": "code",
   "execution_count": null,
   "metadata": {},
   "outputs": [],
   "source": [
    "from ase.build import bulk\n",
    "from ase.calculators.espresso import Espresso\n",
    "from ase.constraints import UnitCellFilter\n",
    "from ase.optimize import LBFGS\n",
    "\n",
    "# Make sure you download valid pseudopotential files from this site https://www.quantum-espresso.org/pseudopotentials# \n",
    "# and save them in a folder in your home directory called espresso/pseudo\n",
    "pseudopotentials = {'Na': 'Na.pbe-spnl-rrkjus_psl.1.0.0.UPF',\n",
    "                    'Cl': 'Cl.pbe-n-rrkjus_psl.1.0.0.UPF'}\n",
    "\n",
    "rocksalt = bulk('NaCl', crystalstructure='rocksalt', a=6.0)\n",
    "calc = Espresso(pseudopotentials=pseudopotentials,\n",
    "                tstress=True, tprnfor=True, kpts=(3, 3, 3))\n",
    "rocksalt.calc = calc\n",
    "\n",
    "ucf = UnitCellFilter(rocksalt)\n",
    "opt = LBFGS(ucf)\n",
    "opt.run(fmax=0.005)\n",
    "\n",
    "# cubic lattic constant\n",
    "print((8*rocksalt.get_volume()/len(rocksalt))**(1.0/3.0))\n",
    "\n"
   ]
  },
  {
   "cell_type": "markdown",
   "metadata": {},
   "source": [
    "The above outputted a bunch of files with names starting with `espresso` and `pwscf` - I need to understand what they mean"
   ]
  },
  {
   "cell_type": "code",
   "execution_count": null,
   "metadata": {},
   "outputs": [],
   "source": [
    "## MATT: going to try and see if this works:\n",
    "print(rocksalt.get_potential_energy())\n",
    "print(rocksalt.get_forces())"
   ]
  },
  {
   "cell_type": "markdown",
   "metadata": {},
   "source": [
    "**MATT: I'd like to be able to translate the code below (from dft book) into QE code like above**"
   ]
  },
  {
   "cell_type": "code",
   "execution_count": null,
   "metadata": {},
   "outputs": [],
   "source": []
  },
  {
   "cell_type": "code",
   "execution_count": null,
   "metadata": {},
   "outputs": [],
   "source": [
    "import nglview # https://github.com/arose/nglview/issues/845#issuecomment-524523545\n",
    "from ase.visualize import view\n",
    "view(CO,viewer='ngl')"
   ]
  },
  {
   "cell_type": "code",
   "execution_count": null,
   "metadata": {},
   "outputs": [],
   "source": [
    "from ase import Atoms, Atom\n",
    "from ase.calculators.espresso import Espresso\n",
    "\n",
    "pseudopotentials = {'C': 'C.pbe-n-kjpaw_psl.1.0.0.UPF',\n",
    "                    'O': 'O.pbe-n-kjpaw_psl.0.1.UPF'}\n",
    "\n",
    "CO = Atoms([Atom('C', [0, 0, 0]),\n",
    "            Atom('O', [1.2, 0, 0])],\n",
    "           cell=(20., 20., 20.))\n",
    "\n",
    "calc = Espresso(label=\"CO\", pseudo_dir = \"/Users/matt/QE/SSSP_precision_pseudos/\", pseudopotentials=pseudopotentials, pw=400 , # Plane wave cutoff\n",
    "                dw=4000, # Density wave cutoff\n",
    "                kpts=(1,1,1), # (rather sparse) k-point (Brillouin) sampling\n",
    "                xc='RPBE', #Exchange-correlation functional\n",
    "                dipole={'status':True}, # Includes dipole correction (necessary for asymmetric slabs)\n",
    "        prefix=\"CO\")\n",
    "\n",
    "\n",
    "# calc = Vasp('molecules/simple-co',  # output dir\n",
    "#             xc='pbe',  # the exchange-correlation functional\n",
    "#             nbands=6,    # number of bands\n",
    "#             encut=350,    # planewave cutoff\n",
    "#             ismear=1,    # Methfessel-Paxton smearing\n",
    "#             sigma=0.01,  # very small smearing factor for a molecule\n",
    "#             atoms=co)\n",
    "\n",
    "\n",
    "# calc =  Espresso(pseudo_dir = \"/Users/matt/QE/SSSP_precision_pseudos/\", pseudopotentials=pseudopotentials,\n",
    "#                  calculation=\"relax\", conv_thr=1e-8, ion_dynamics=\"bfgs\", prefix=\"CO\", kpts=(1, 1, 1), ecutwfc=30.0, ibrav=1)\n",
    "\n",
    "CO.calc = calc\n",
    "\n",
    "print('energy = {0} eV'.format(CO.get_potential_energy()))\n",
    "print(CO.get_forces())"
   ]
  },
  {
   "cell_type": "code",
   "execution_count": null,
   "metadata": {},
   "outputs": [],
   "source": [
    "CO.get_positions()"
   ]
  },
  {
   "cell_type": "markdown",
   "metadata": {},
   "source": [
    "**MATT: I'd like to also play with code from these stanford people https://suncat.stanford.edu/wiki**"
   ]
  },
  {
   "cell_type": "markdown",
   "metadata": {},
   "source": [
    "Raman https://wiki.fysik.dtu.dk/ase/ase/vibrations/raman.html?highlight=raman\n",
    "\n",
    "Phonons"
   ]
  },
  {
   "cell_type": "code",
   "execution_count": null,
   "metadata": {},
   "outputs": [],
   "source": [
    "from ase import Atoms, Atom\n",
    "from ase.calculators.espresso import Espresso\n",
    "\n",
    "pseudopotentials = {'H': 'H_ONCV_PBE-1.0.oncvpsp.upf'}\n",
    "\n",
    "H2 = Atoms([Atom('H', [0, 0, 0]),\n",
    "            Atom('H', [1, 0, 0])],\n",
    "           cell=(10., 10., 10.))\n",
    "\n",
    "calc =  Espresso(pseudo_dir = \"/Users/matt/QE/SSSP_precision_pseudos/\", pseudopotentials=pseudopotentials,\n",
    "                 calculation=\"relax\", conv_thr=1e-8, ion_dynamics=\"bfgs\", prefix=\"H2\", kpts=(1, 1, 1), ecutwfc=30.0, ibrav=1)\n",
    "\n",
    "\n",
    "H2.calc = calc\n",
    "\n",
    "print('energy = {0} eV'.format(H2.get_potential_energy()))"
   ]
  },
  {
   "cell_type": "code",
   "execution_count": null,
   "metadata": {},
   "outputs": [],
   "source": [
    "H2.get_positions()"
   ]
  },
  {
   "cell_type": "code",
   "execution_count": null,
   "metadata": {},
   "outputs": [],
   "source": [
    "# https://wiki.fysik.dtu.dk/ase/ase/atoms.html#working-with-the-array-methods-of-atoms-objects\n",
    "\n"
   ]
  },
  {
   "cell_type": "code",
   "execution_count": null,
   "metadata": {},
   "outputs": [],
   "source": [
    "from ase.dft.dos import DOS\n",
    "dos = DOS(calc)\n",
    "plt.plot(dos.get_energies(), dos.get_dos())\n",
    "plt.xlabel('Energy - $E_f$ (eV)')\n",
    "plt.ylabel('DOS')"
   ]
  },
  {
   "cell_type": "code",
   "execution_count": null,
   "metadata": {},
   "outputs": [],
   "source": []
  }
 ],
 "metadata": {
  "jupytext": {
   "formats": "ipynb,src//md"
  },
  "kernelspec": {
   "display_name": "Python 3",
   "language": "python",
   "name": "python3"
  },
  "language_info": {
   "codemirror_mode": {
    "name": "ipython",
    "version": 3
   },
   "file_extension": ".py",
   "mimetype": "text/x-python",
   "name": "python",
   "nbconvert_exporter": "python",
   "pygments_lexer": "ipython3",
   "version": "3.7.1"
  }
 },
 "nbformat": 4,
 "nbformat_minor": 4
}
