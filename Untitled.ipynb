{
 "cells": [
  {
   "cell_type": "code",
   "execution_count": null,
   "metadata": {},
   "outputs": [],
   "source": [
    "# loading some common python libraries\n",
    "\n",
    "import numpy as np\n",
    "from numpy import linalg\n",
    "import matplotlib.pyplot as plt\n",
    "from matplotlib import animation, rc\n",
    "from IPython.display import Image\n",
    "from IPython.core.display import HTML \n",
    "import sympy as sp\n",
    "#from google.colab.output._publish import javascript\n",
    "mathjaxurl = \"https://cdnjs.cloudflare.com/ajax/libs/mathjax/2.7.3/latest.js?config=default\"\n",
    "sp.init_printing(use_latex='mathjax') \n",
    "import matplotlib.patches as patches\n",
    "import pandas as pd"
   ]
  },
  {
   "cell_type": "code",
   "execution_count": null,
   "metadata": {},
   "outputs": [],
   "source": [
    "class object:\n",
    "    def __init__(self, mass = 1, (x0, y0) = (0,0),  (vx0, vy0) = (0,0), (ax0, ay0) = (0,0),\n",
    "                 dt = 0.0001):\n",
    "        #Establishing the parameters of an object\n",
    "        self.mass = mass\n",
    "        self.position = np.array([x0, y0])\n",
    "        self.velocity = np.array([vx0, vy0])\n",
    "        self.acceleration = np.array([ax0, ay0])\n",
    "        self.energy = 0.5 * self.mass * ((self.velocity[0])**2 + (self.velocity[1])**2)\n",
    "        self.dt = dt\n",
    "        \n",
    "        #self.force is a list of all of the different forces that are acting on the object\n",
    "        self.forces = []\n",
    "        \n",
    "        #self.xhistory is all of the different positions the object has gone through; the purpose of this is for graphing\n",
    "        self.xhistory = [[],[]]\n",
    "        \n",
    "        #Keep track of initial conditions for resets\n",
    "        self.xstart = np.array([x0, y0])\n",
    "        self.vstart = np.array([vx0, vy0])\n",
    "        self.astart = np.array([ax0, ay0])\n",
    "\n",
    "    def timestep(self):\n",
    "        #Processing a timestep\n",
    "        self.xhistory[0].append(self.position[0])\n",
    "        self.xhistory[1].append(self.position[1])\n",
    "        self.position = self.position + self.velocity * self.dt\n",
    "        self.velocity = self.velocity + self.acceleration * self.dt\n",
    "        self.energy = 0.5 * self.mass * ((self.velocity[0])**2 + (self.velocity[1])**2)\n",
    "\n",
    "    def force(self, Force):\n",
    "        #We add a force to our list of forces\n",
    "        self.forces.append(Force)\n",
    "\n",
    "    def Newton(self):\n",
    "        #Based on our list of forces, we use Newton's Second Law to find the net force and net acceleration\n",
    "        Force = 0\n",
    "        for F in self.forces:\n",
    "            Force += F\n",
    "        self.acceleration = Force / self.mass\n",
    "        self.forces = []\n",
    "    \n",
    "    def displace(self, x, v):\n",
    "        #This is a function that displaces an object\n",
    "        self.position += x\n",
    "        self.velocity += v\n",
    "        \n",
    "    def reset(self):\n",
    "        #Reset everything\n",
    "        self.position = self.xstart\n",
    "        self.velocity = self.vstart\n",
    "        self.acceleration = self.astart\n",
    "        self.energy = 0.5 * self.mass * ((self.velocity[0])**2 + (self.velocity[1])**2)\n",
    "        self.xhistory = []"
   ]
  },
  {
   "cell_type": "code",
   "execution_count": null,
   "metadata": {},
   "outputs": [],
   "source": [
    "class wall(object):\n",
    "    def Newton(self):\n",
    "        self.acceleration = np.array([0,0])\n",
    "        \n",
    "    def setup(self, (Ax, Ay), (omegax, omegay), (phix, phiy)):\n",
    "        self.drivex = lambda time: Ax * np.cos(omegax * time + phix) + self.xstart\n",
    "        self.drivey = lambda time: Ay * np.cos(omegay * time + phiy) + self.ystart\n",
    "        \n",
    "    def drive(self, time):\n",
    "        self.position = np.array([self.drivex(time), self.drivey(time)])"
   ]
  },
  {
   "cell_type": "code",
   "execution_count": null,
   "metadata": {},
   "outputs": [],
   "source": [
    "class spring:\n",
    "    def __init__(self, k, object1, object2, rest_length = 0):\n",
    "        #Initialize the parameters of the spring\n",
    "        self.k = k\n",
    "        self.obj1 = object1\n",
    "        self.obj2 = object2\n",
    "        self.rest = rest_length\n",
    "        self.energy = 0\n",
    "        \n",
    "\n",
    "    def spring_force(self):\n",
    "        #Calculate the magnitude of the spring force based on the position of the attached masses and the \n",
    "        #parameters of the spring. Then add that force to the list of forces for each object\n",
    "        x1 = self.obj1.position\n",
    "        x2 = self.obj2.position\n",
    "        deltax = (x2 - x1) * (np.linalg.norm(x2 - x1) - self.rest)/(np.linalg.norm(x2 - x1))\n",
    "        f = self.k * deltax\n",
    "        self.obj1.force(f)\n",
    "        self.obj2.force(-f)\n",
    "        self.energy = 0.5 * self.k * (np.linalg.norm(deltax)) ** 2"
   ]
  },
  {
   "cell_type": "code",
   "execution_count": null,
   "metadata": {},
   "outputs": [],
   "source": [
    "def damping(obj, gamma):\n",
    "    #Standard damping force, but it isn't used much\n",
    "    v = obj.velocity\n",
    "    obj.force(-gamma*v)"
   ]
  },
  {
   "cell_type": "code",
   "execution_count": null,
   "metadata": {},
   "outputs": [],
   "source": [
    "figNum = 1\n",
    "def figLabel(figNum):\n",
    "    label = \"Fig. \" + str(figNum) + \": \"\n",
    "    return label"
   ]
  },
  {
   "cell_type": "code",
   "execution_count": null,
   "metadata": {},
   "outputs": [],
   "source": [
    "class driver:\n",
    "    def __init__(self, amplitude, omega, phase, obj):\n",
    "        self.amplitude = amplitude\n",
    "        self.phase = phase\n",
    "        self.omega = omega\n",
    "        self.obj = obj\n",
    "    \n",
    "    def drive(self, time):\n",
    "        driving_force = self.amplitude * np.cos(self.omega * time + self.phase)\n",
    "        self.obj.force(driving_force)"
   ]
  },
  {
   "cell_type": "code",
   "execution_count": 1,
   "metadata": {},
   "outputs": [
    {
     "ename": "IndentationError",
     "evalue": "expected an indented block (<ipython-input-1-facf3d0e593f>, line 17)",
     "output_type": "error",
     "traceback": [
      "\u001b[0;36m  File \u001b[0;32m\"<ipython-input-1-facf3d0e593f>\"\u001b[0;36m, line \u001b[0;32m17\u001b[0m\n\u001b[0;31m    springs = []\u001b[0m\n\u001b[0m          ^\u001b[0m\n\u001b[0;31mIndentationError\u001b[0m\u001b[0;31m:\u001b[0m expected an indented block\n"
     ]
    }
   ],
   "source": [
    "end_time = 1000\n",
    "iters = 3000000\n",
    "Nx = 3\n",
    "Ny = 3\n",
    "dt = end_time/iters\n",
    "l = 1\n",
    "mass = 5\n",
    "k = 5\n",
    "gamma = 0\n",
    "\n",
    "A = 0.1\n",
    "omega = 3**0.5\n",
    "phi = 0\n",
    "\n",
    "objects = []\n",
    "for i in range(Ny):\n",
    "    objects.append([])\n",
    "springs = []\n",
    "drivers = []\n",
    "objects.append(wall(x0 = 0))\n",
    "for n in range(N):\n",
    "    objects.append(object(mass, x0 = l*(n + 1), dt = dt))\n",
    "objects.append(wall(x0 = l*(N + 1)))\n",
    "for m in range(N+1):\n",
    "    springs.append(spring(k, objects[m], objects[m+1], rest_length = l))"
   ]
  },
  {
   "cell_type": "code",
   "execution_count": null,
   "metadata": {},
   "outputs": [],
   "source": []
  }
 ],
 "metadata": {
  "kernelspec": {
   "display_name": "Python 3",
   "language": "python",
   "name": "python3"
  },
  "language_info": {
   "codemirror_mode": {
    "name": "ipython",
    "version": 3
   },
   "file_extension": ".py",
   "mimetype": "text/x-python",
   "name": "python",
   "nbconvert_exporter": "python",
   "pygments_lexer": "ipython3",
   "version": "3.7.4"
  }
 },
 "nbformat": 4,
 "nbformat_minor": 2
}
